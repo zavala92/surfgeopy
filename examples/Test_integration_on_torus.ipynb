{
 "cells": [
  {
   "cell_type": "markdown",
   "id": "9a0a0e7a",
   "metadata": {},
   "source": [
    "# Surface Area Computation Benchmark\n",
    "\n",
    "This benchmark focuses on the computational task of computing surface areas.\n",
    "\n",
    "We perform the Higher-Order Surface Quadrature (HOSQ) algorithm for a torus $T^2_{r,R}$ with an inner radius $r=1$ and an outer radius $R=2$. We employ the `distmesh` tool to generate Delaunay triangulations, resulting in a mesh with $N_{\\Delta}=260$ triangles for the torus.\n"
   ]
  },
  {
   "cell_type": "code",
   "execution_count": null,
   "id": "30f35292",
   "metadata": {},
   "outputs": [],
   "source": [
    "#Imports\n",
    "import matplotlib.pyplot as plt\n",
    "import numpy as np\n",
    "from math import pi\n",
    "from time import time\n",
    "import scipy.io\n",
    "from numba import njit\n",
    "\n",
    "#Local imports\n",
    "import surfgeopy as sp"
   ]
  },
  {
   "cell_type": "markdown",
   "id": "4989e4a3",
   "metadata": {},
   "source": [
    "In this experiment, we start with a coarse mesh and iteratively refine it twice for enhanced accuracy."
   ]
  },
  {
   "cell_type": "code",
   "execution_count": null,
   "id": "c0e4ec37",
   "metadata": {},
   "outputs": [],
   "source": [
    "mesh_path =\"../meshes/torus_260.mat\"\n",
    "\n",
    "R=2\n",
    "r=1\n",
    "\n",
    "\n",
    "@njit(fastmath=True)\n",
    "def phi(x: np.ndarray):\n",
    "    ph = np.sqrt(x[0]*x[0] + x[1]*x[1])\n",
    "    return (ph - R)*(ph - R) + x[2]*x[2] - r*r\n",
    "\n",
    "@njit(fastmath=True)\n",
    "def dphi(x: np.ndarray):\n",
    "    ph = np.sqrt(x[0]*x[0] + x[1]*x[1])\n",
    "    return np.array([-2*R*x[0]/ph + 2*x[0],-2*R*x[1]/ph + 2*x[1],2*x[2]])\n",
    "\n",
    "\n",
    "def err_t(intp_degree,lp_degree,mesh_path, refinement):\n",
    "    f1=lambda _: 1\n",
    "    t0 = time()\n",
    "    areas = sp.integration(phi,dphi, mesh_path,intp_degree,lp_degree,refinement, f1)\n",
    "    t1 = time()\n",
    "    sum_area =sum(areas)\n",
    "    t1 = time()\n",
    "    exact_area =(2*pi*R)*(2*pi*r)\n",
    "    \n",
    "    print(\"Relative error: \", abs(sum_area - exact_area) / exact_area)\n",
    "    print (\"The main function takes:\",{(t1-t0)})\n",
    "    error=abs(sum_area - exact_area) / exact_area\n",
    "    return error\n",
    "\n",
    "Nrange = list(range(2,15))\n",
    "lp_degree=float(\"inf\")\n",
    "error1=[] \n",
    "error2=[]\n",
    "error3=[]\n",
    "for n in Nrange:\n",
    "    if n%1==0:print(n)\n",
    "    erro1 = err_t(int(n),lp_degree,mesh_path,0)\n",
    "    error1.append(erro1)\n",
    "    erro2 = err_t(n,lp_degree,mesh_path, 1)\n",
    "    error2.append(erro2)\n",
    "    erro3 = err_t(n,lp_degree,mesh_path, 2)\n",
    "    error3.append(erro3)\n",
    "\n",
    "plt.semilogy(Nrange, error1, '-og')\n",
    "plt.semilogy(Nrange, error2, '-oy')\n",
    "plt.semilogy(Nrange, error3, '-or')\n",
    "plt.xlabel(\"Polynomial degree\",fontsize=13)\n",
    "plt.ylabel(\"Relative error\",fontsize=13)\n",
    "plt.legend(['$N_{\\Delta}=260$','$N_{\\Delta}=1040$','$N_{\\Delta}=4160$'],prop={'size': 13})\n",
    "plt.xticks(np.arange(min(Nrange), max(Nrange)+1, 1.0))\n",
    "plt.ylim([2.758195177427762e-18,3.9514540203871754e-03])\n",
    "plt.grid()"
   ]
  }
 ],
 "metadata": {
  "kernelspec": {
   "display_name": "Python 3 (ipykernel)",
   "language": "python",
   "name": "python3"
  },
  "language_info": {
   "codemirror_mode": {
    "name": "ipython",
    "version": 3
   },
   "file_extension": ".py",
   "mimetype": "text/x-python",
   "name": "python",
   "nbconvert_exporter": "python",
   "pygments_lexer": "ipython3",
   "version": "3.11.5"
  }
 },
 "nbformat": 4,
 "nbformat_minor": 5
}
